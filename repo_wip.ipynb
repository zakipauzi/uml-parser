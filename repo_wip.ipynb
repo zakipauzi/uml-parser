{
 "cells": [
  {
   "cell_type": "markdown",
   "metadata": {},
   "source": [
    "# Repos in scope"
   ]
  },
  {
   "cell_type": "code",
   "execution_count": 1,
   "metadata": {
    "ExecuteTime": {
     "end_time": "2024-07-23T12:57:35.481265Z",
     "start_time": "2024-07-23T12:57:35.118254Z"
    }
   },
   "outputs": [
    {
     "data": {
      "text/plain": "                                 repo  stargazers_count  \\\n0               kubernetes/kubernetes           97422.0   \n1               kubernetes/kubernetes           97422.0   \n2    spring-projects/spring-framework           51460.0   \n3            nodejs/node-v0.x-archive           34567.0   \n4                           odoo/odoo           28771.0   \n..                                ...               ...   \n288                   orocrm/platform             624.0   \n289                   orocrm/platform             624.0   \n290                  benas/gamehub.io             622.0   \n291         code4craft/jsoup-learning             620.0   \n292                    leancloud/docs             605.0   \n\n                                            GitHub URL  \\\n0             http://github.com/kubernetes/kubernetes/   \n1             http://github.com/kubernetes/kubernetes/   \n2    http://github.com/spring-projects/spring-frame...   \n3          http://github.com/nodejs/node-v0.x-archive/   \n4                         http://github.com/odoo/odoo/   \n..                                                 ...   \n288                 http://github.com/orocrm/platform/   \n289                 http://github.com/orocrm/platform/   \n290                http://github.com/benas/gamehub.io/   \n291       http://github.com/code4craft/jsoup-learning/   \n292                  http://github.com/leancloud/docs/   \n\n     Total number of UML files  No. of .uml  No. of .xmi  No. of .svg  \\\n0                            2            0            0            0   \n1                            2            0            0            0   \n2                            1            0            0            0   \n3                            1            0            0            0   \n4                            1            0            0            0   \n..                         ...          ...          ...          ...   \n288                          3            0            0            0   \n289                          3            0            0            0   \n290                          1            0            0            0   \n291                          1            0            0            0   \n292                          1            0            0            0   \n\n     No. of .png  No. of .jpeg  No. of .bmp  No. of .jpg  No. of .gif  \\\n0              2             0            0            0            0   \n1              2             0            0            0            0   \n2              0             0            0            0            1   \n3              1             0            0            0            0   \n4              1             0            0            0            0   \n..           ...           ...          ...          ...          ...   \n288            2             0            0            1            0   \n289            2             0            0            1            0   \n290            0             0            0            1            0   \n291            1             0            0            0            0   \n292            1             0            0            0            0   \n\n                                   Model Link - Github  \n0    https://www.github.com/kubernetes/kubernetes/t...  \n1    https://www.github.com/kubernetes/kubernetes/t...  \n2    https://www.github.com/spring-projects/spring-...  \n3    https://www.github.com/nodejs/node-v0.x-archiv...  \n4    https://www.github.com/odoo/odoo/tree/master/d...  \n..                                                 ...  \n288  https://www.github.com/orocrm/platform/tree/ma...  \n289  https://www.github.com/orocrm/platform/tree/ma...  \n290  https://www.github.com/benas/gamehub.io/tree/m...  \n291  https://www.github.com/code4craft/jsoup-learni...  \n292  https://www.github.com/leancloud/docs/tree/mas...  \n\n[293 rows x 13 columns]",
      "text/html": "<div>\n<style scoped>\n    .dataframe tbody tr th:only-of-type {\n        vertical-align: middle;\n    }\n\n    .dataframe tbody tr th {\n        vertical-align: top;\n    }\n\n    .dataframe thead th {\n        text-align: right;\n    }\n</style>\n<table border=\"1\" class=\"dataframe\">\n  <thead>\n    <tr style=\"text-align: right;\">\n      <th></th>\n      <th>repo</th>\n      <th>stargazers_count</th>\n      <th>GitHub URL</th>\n      <th>Total number of UML files</th>\n      <th>No. of .uml</th>\n      <th>No. of .xmi</th>\n      <th>No. of .svg</th>\n      <th>No. of .png</th>\n      <th>No. of .jpeg</th>\n      <th>No. of .bmp</th>\n      <th>No. of .jpg</th>\n      <th>No. of .gif</th>\n      <th>Model Link - Github</th>\n    </tr>\n  </thead>\n  <tbody>\n    <tr>\n      <th>0</th>\n      <td>kubernetes/kubernetes</td>\n      <td>97422.0</td>\n      <td>http://github.com/kubernetes/kubernetes/</td>\n      <td>2</td>\n      <td>0</td>\n      <td>0</td>\n      <td>0</td>\n      <td>2</td>\n      <td>0</td>\n      <td>0</td>\n      <td>0</td>\n      <td>0</td>\n      <td>https://www.github.com/kubernetes/kubernetes/t...</td>\n    </tr>\n    <tr>\n      <th>1</th>\n      <td>kubernetes/kubernetes</td>\n      <td>97422.0</td>\n      <td>http://github.com/kubernetes/kubernetes/</td>\n      <td>2</td>\n      <td>0</td>\n      <td>0</td>\n      <td>0</td>\n      <td>2</td>\n      <td>0</td>\n      <td>0</td>\n      <td>0</td>\n      <td>0</td>\n      <td>https://www.github.com/kubernetes/kubernetes/t...</td>\n    </tr>\n    <tr>\n      <th>2</th>\n      <td>spring-projects/spring-framework</td>\n      <td>51460.0</td>\n      <td>http://github.com/spring-projects/spring-frame...</td>\n      <td>1</td>\n      <td>0</td>\n      <td>0</td>\n      <td>0</td>\n      <td>0</td>\n      <td>0</td>\n      <td>0</td>\n      <td>0</td>\n      <td>1</td>\n      <td>https://www.github.com/spring-projects/spring-...</td>\n    </tr>\n    <tr>\n      <th>3</th>\n      <td>nodejs/node-v0.x-archive</td>\n      <td>34567.0</td>\n      <td>http://github.com/nodejs/node-v0.x-archive/</td>\n      <td>1</td>\n      <td>0</td>\n      <td>0</td>\n      <td>0</td>\n      <td>1</td>\n      <td>0</td>\n      <td>0</td>\n      <td>0</td>\n      <td>0</td>\n      <td>https://www.github.com/nodejs/node-v0.x-archiv...</td>\n    </tr>\n    <tr>\n      <th>4</th>\n      <td>odoo/odoo</td>\n      <td>28771.0</td>\n      <td>http://github.com/odoo/odoo/</td>\n      <td>1</td>\n      <td>0</td>\n      <td>0</td>\n      <td>0</td>\n      <td>1</td>\n      <td>0</td>\n      <td>0</td>\n      <td>0</td>\n      <td>0</td>\n      <td>https://www.github.com/odoo/odoo/tree/master/d...</td>\n    </tr>\n    <tr>\n      <th>...</th>\n      <td>...</td>\n      <td>...</td>\n      <td>...</td>\n      <td>...</td>\n      <td>...</td>\n      <td>...</td>\n      <td>...</td>\n      <td>...</td>\n      <td>...</td>\n      <td>...</td>\n      <td>...</td>\n      <td>...</td>\n      <td>...</td>\n    </tr>\n    <tr>\n      <th>288</th>\n      <td>orocrm/platform</td>\n      <td>624.0</td>\n      <td>http://github.com/orocrm/platform/</td>\n      <td>3</td>\n      <td>0</td>\n      <td>0</td>\n      <td>0</td>\n      <td>2</td>\n      <td>0</td>\n      <td>0</td>\n      <td>1</td>\n      <td>0</td>\n      <td>https://www.github.com/orocrm/platform/tree/ma...</td>\n    </tr>\n    <tr>\n      <th>289</th>\n      <td>orocrm/platform</td>\n      <td>624.0</td>\n      <td>http://github.com/orocrm/platform/</td>\n      <td>3</td>\n      <td>0</td>\n      <td>0</td>\n      <td>0</td>\n      <td>2</td>\n      <td>0</td>\n      <td>0</td>\n      <td>1</td>\n      <td>0</td>\n      <td>https://www.github.com/orocrm/platform/tree/ma...</td>\n    </tr>\n    <tr>\n      <th>290</th>\n      <td>benas/gamehub.io</td>\n      <td>622.0</td>\n      <td>http://github.com/benas/gamehub.io/</td>\n      <td>1</td>\n      <td>0</td>\n      <td>0</td>\n      <td>0</td>\n      <td>0</td>\n      <td>0</td>\n      <td>0</td>\n      <td>1</td>\n      <td>0</td>\n      <td>https://www.github.com/benas/gamehub.io/tree/m...</td>\n    </tr>\n    <tr>\n      <th>291</th>\n      <td>code4craft/jsoup-learning</td>\n      <td>620.0</td>\n      <td>http://github.com/code4craft/jsoup-learning/</td>\n      <td>1</td>\n      <td>0</td>\n      <td>0</td>\n      <td>0</td>\n      <td>1</td>\n      <td>0</td>\n      <td>0</td>\n      <td>0</td>\n      <td>0</td>\n      <td>https://www.github.com/code4craft/jsoup-learni...</td>\n    </tr>\n    <tr>\n      <th>292</th>\n      <td>leancloud/docs</td>\n      <td>605.0</td>\n      <td>http://github.com/leancloud/docs/</td>\n      <td>1</td>\n      <td>0</td>\n      <td>0</td>\n      <td>0</td>\n      <td>1</td>\n      <td>0</td>\n      <td>0</td>\n      <td>0</td>\n      <td>0</td>\n      <td>https://www.github.com/leancloud/docs/tree/mas...</td>\n    </tr>\n  </tbody>\n</table>\n<p>293 rows × 13 columns</p>\n</div>"
     },
     "execution_count": 1,
     "metadata": {},
     "output_type": "execute_result"
    }
   ],
   "source": [
    "import pandas as pd\n",
    "\n",
    "repos_df = pd.read_csv('repos_df.csv')\n",
    "repos_df"
   ]
  },
  {
   "cell_type": "code",
   "execution_count": 2,
   "metadata": {
    "ExecuteTime": {
     "end_time": "2024-07-23T12:57:35.486877Z",
     "start_time": "2024-07-23T12:57:35.479513Z"
    }
   },
   "outputs": [
    {
     "data": {
      "text/plain": "['1_kubernetes',\n '2_spring-framework',\n '3_node-v0.x-archive',\n '4_odoo',\n '5_elasticsearch-analysis-ik',\n '6_FreeCAD',\n '7_rapidjson',\n '8_Activiti',\n '9_mysql-server',\n '10_azure-content',\n '11_sonarqube',\n '12_QGIS',\n '13_jmeter',\n '14_lovefield',\n '15_GoJS',\n '16_gocd',\n '17_android-open-project-analysis',\n '18_google-api-python-client',\n '19_design_patterns',\n '20_h2o-3',\n '21_HP-Socket',\n '22_framework',\n '23_Gadgetbridge',\n '24_orange3',\n '25_dolibarr',\n '26_cgal',\n '27_phpDocumentor2',\n '28_maven',\n '29_netty-learning',\n '30_game-programming-patterns',\n '31_ogre',\n '32_RakNet',\n '33_optaplanner',\n '34_core-plot',\n '35_UVCCamera',\n '36_logback',\n '37_android_design_patterns_analysis',\n '38_textlint',\n '39_bitcoin-on-nodejs',\n '40_spring-batch',\n '41_h2o-2',\n '42_react-starter',\n '43_monodroid-samples',\n '44_incubator-geode',\n '45_gobblin',\n '46_grobid',\n '47_game-of-life',\n '48_MathBox.js',\n '49_node-convergence-archive',\n '50_yard',\n '51_AsciidocFX',\n '52_cookbook',\n '53_LibrePCB',\n '54_poi',\n '55_octomap',\n '56_chrome-devtools-app',\n '57_Fast-RTPS',\n '58_pjproject',\n '59_AndroidViewClient',\n '60_Dynamo',\n '61_unknown-horizons',\n '62_MVVM.CEF.Glue',\n '63_n2o',\n '64_activiti-in-action-codes',\n '65_gotalk',\n '66_ImagePlay',\n '67_OpenDDS',\n '68_mayavi',\n '69_anki-3d-engine',\n '70_openrouteservice',\n '71_openrouteservice-core',\n '72_sipsorcery',\n '73_sonar-java',\n '74_di',\n '75_usergrid',\n '76_Dnn.Platform',\n '77_owner',\n '78_elmerfem',\n '79_activemq-artemis',\n '80_DebugViewPP',\n '81_activejdbc',\n '82_spring-net',\n '83_lcm',\n '84_busmaster',\n '85_jenetics',\n '86_dataverse',\n '87_isis',\n '88_elabftw',\n '89_efficientR',\n '90_Seccubus_v2',\n '91_aces-dev',\n '92_wicket',\n '93_swift-clang',\n '94_swift-lldb',\n '95_waf',\n '96_diode',\n '97_platform',\n '98_gamehub.io',\n '99_jsoup-learning',\n '100_docs']"
     },
     "execution_count": 2,
     "metadata": {},
     "output_type": "execute_result"
    }
   ],
   "source": [
    "ctr = 1\n",
    "\n",
    "repos_names = repos_df[['repo']].drop_duplicates(ignore_index=True)\n",
    "repos_names = repos_names['repo'].apply(lambda x: x.split('/')[1]).to_list()\n",
    "\n",
    "new_repo_names = []\n",
    "\n",
    "for repo in repos_names:\n",
    "    new_repo_name = str(ctr)+ \"_\" + repo\n",
    "    new_repo_names.append(new_repo_name)\n",
    "    ctr += 1\n",
    "\n",
    "new_repo_names"
   ]
  },
  {
   "cell_type": "code",
   "execution_count": 3,
   "metadata": {
    "ExecuteTime": {
     "end_time": "2024-07-23T12:57:35.598611Z",
     "start_time": "2024-07-23T12:57:35.573213Z"
    }
   },
   "outputs": [
    {
     "data": {
      "text/plain": "                           repo   status\n0                  1_kubernetes  pending\n1            2_spring-framework  pending\n2           3_node-v0.x-archive  pending\n3                        4_odoo  pending\n4   5_elasticsearch-analysis-ik  pending\n..                          ...      ...\n95                     96_diode  pending\n96                  97_platform  pending\n97                98_gamehub.io  pending\n98            99_jsoup-learning  pending\n99                     100_docs  pending\n\n[100 rows x 2 columns]",
      "text/html": "<div>\n<style scoped>\n    .dataframe tbody tr th:only-of-type {\n        vertical-align: middle;\n    }\n\n    .dataframe tbody tr th {\n        vertical-align: top;\n    }\n\n    .dataframe thead th {\n        text-align: right;\n    }\n</style>\n<table border=\"1\" class=\"dataframe\">\n  <thead>\n    <tr style=\"text-align: right;\">\n      <th></th>\n      <th>repo</th>\n      <th>status</th>\n    </tr>\n  </thead>\n  <tbody>\n    <tr>\n      <th>0</th>\n      <td>1_kubernetes</td>\n      <td>pending</td>\n    </tr>\n    <tr>\n      <th>1</th>\n      <td>2_spring-framework</td>\n      <td>pending</td>\n    </tr>\n    <tr>\n      <th>2</th>\n      <td>3_node-v0.x-archive</td>\n      <td>pending</td>\n    </tr>\n    <tr>\n      <th>3</th>\n      <td>4_odoo</td>\n      <td>pending</td>\n    </tr>\n    <tr>\n      <th>4</th>\n      <td>5_elasticsearch-analysis-ik</td>\n      <td>pending</td>\n    </tr>\n    <tr>\n      <th>...</th>\n      <td>...</td>\n      <td>...</td>\n    </tr>\n    <tr>\n      <th>95</th>\n      <td>96_diode</td>\n      <td>pending</td>\n    </tr>\n    <tr>\n      <th>96</th>\n      <td>97_platform</td>\n      <td>pending</td>\n    </tr>\n    <tr>\n      <th>97</th>\n      <td>98_gamehub.io</td>\n      <td>pending</td>\n    </tr>\n    <tr>\n      <th>98</th>\n      <td>99_jsoup-learning</td>\n      <td>pending</td>\n    </tr>\n    <tr>\n      <th>99</th>\n      <td>100_docs</td>\n      <td>pending</td>\n    </tr>\n  </tbody>\n</table>\n<p>100 rows × 2 columns</p>\n</div>"
     },
     "execution_count": 3,
     "metadata": {},
     "output_type": "execute_result"
    }
   ],
   "source": [
    "status_df = pd.DataFrame({'repo': new_repo_names, 'status': 'pending'})\n",
    "status_df"
   ]
  },
  {
   "cell_type": "code",
   "execution_count": 4,
   "metadata": {
    "ExecuteTime": {
     "end_time": "2024-07-23T12:57:35.598971Z",
     "start_time": "2024-07-23T12:57:35.574876Z"
    }
   },
   "outputs": [],
   "source": [
    "status_df.to_csv('status_df.csv', index=False)"
   ]
  },
  {
   "cell_type": "code",
   "execution_count": 5,
   "metadata": {
    "ExecuteTime": {
     "end_time": "2024-07-23T12:57:35.599978Z",
     "start_time": "2024-07-23T12:57:35.575125Z"
    }
   },
   "outputs": [
    {
     "name": "stdout",
     "output_type": "stream",
     "text": [
      "Folder created: data_models/1_kubernetes\n",
      "Folder created: data_models/2_spring-framework\n",
      "Folder created: data_models/3_node-v0.x-archive\n",
      "Folder created: data_models/4_odoo\n",
      "Folder created: data_models/5_elasticsearch-analysis-ik\n",
      "Folder created: data_models/6_FreeCAD\n",
      "Folder created: data_models/7_rapidjson\n",
      "Folder created: data_models/8_Activiti\n",
      "Folder created: data_models/9_mysql-server\n",
      "Folder created: data_models/10_azure-content\n",
      "Folder created: data_models/11_sonarqube\n",
      "Folder created: data_models/12_QGIS\n",
      "Folder created: data_models/13_jmeter\n",
      "Folder created: data_models/14_lovefield\n",
      "Folder created: data_models/15_GoJS\n",
      "Folder created: data_models/16_gocd\n",
      "Folder created: data_models/17_android-open-project-analysis\n",
      "Folder created: data_models/18_google-api-python-client\n",
      "Folder created: data_models/19_design_patterns\n",
      "Folder created: data_models/20_h2o-3\n",
      "Folder created: data_models/21_HP-Socket\n",
      "Folder created: data_models/22_framework\n",
      "Folder created: data_models/23_Gadgetbridge\n",
      "Folder created: data_models/24_orange3\n",
      "Folder created: data_models/25_dolibarr\n",
      "Folder created: data_models/26_cgal\n",
      "Folder created: data_models/27_phpDocumentor2\n",
      "Folder created: data_models/28_maven\n",
      "Folder created: data_models/29_netty-learning\n",
      "Folder created: data_models/30_game-programming-patterns\n",
      "Folder created: data_models/31_ogre\n",
      "Folder created: data_models/32_RakNet\n",
      "Folder created: data_models/33_optaplanner\n",
      "Folder created: data_models/34_core-plot\n",
      "Folder created: data_models/35_UVCCamera\n",
      "Folder created: data_models/36_logback\n",
      "Folder created: data_models/37_android_design_patterns_analysis\n",
      "Folder created: data_models/38_textlint\n",
      "Folder created: data_models/39_bitcoin-on-nodejs\n",
      "Folder created: data_models/40_spring-batch\n",
      "Folder created: data_models/41_h2o-2\n",
      "Folder created: data_models/42_react-starter\n",
      "Folder created: data_models/43_monodroid-samples\n",
      "Folder created: data_models/44_incubator-geode\n",
      "Folder created: data_models/45_gobblin\n",
      "Folder created: data_models/46_grobid\n",
      "Folder created: data_models/47_game-of-life\n",
      "Folder created: data_models/48_MathBox.js\n",
      "Folder created: data_models/49_node-convergence-archive\n",
      "Folder created: data_models/50_yard\n",
      "Folder created: data_models/51_AsciidocFX\n",
      "Folder created: data_models/52_cookbook\n",
      "Folder created: data_models/53_LibrePCB\n",
      "Folder created: data_models/54_poi\n",
      "Folder created: data_models/55_octomap\n",
      "Folder created: data_models/56_chrome-devtools-app\n",
      "Folder created: data_models/57_Fast-RTPS\n",
      "Folder created: data_models/58_pjproject\n",
      "Folder created: data_models/59_AndroidViewClient\n",
      "Folder created: data_models/60_Dynamo\n",
      "Folder created: data_models/61_unknown-horizons\n",
      "Folder created: data_models/62_MVVM.CEF.Glue\n",
      "Folder created: data_models/63_n2o\n",
      "Folder created: data_models/64_activiti-in-action-codes\n",
      "Folder created: data_models/65_gotalk\n",
      "Folder created: data_models/66_ImagePlay\n",
      "Folder created: data_models/67_OpenDDS\n",
      "Folder created: data_models/68_mayavi\n",
      "Folder created: data_models/69_anki-3d-engine\n",
      "Folder created: data_models/70_openrouteservice\n",
      "Folder created: data_models/71_openrouteservice-core\n",
      "Folder created: data_models/72_sipsorcery\n",
      "Folder created: data_models/73_sonar-java\n",
      "Folder created: data_models/74_di\n",
      "Folder created: data_models/75_usergrid\n",
      "Folder created: data_models/76_Dnn.Platform\n",
      "Folder created: data_models/77_owner\n",
      "Folder created: data_models/78_elmerfem\n",
      "Folder created: data_models/79_activemq-artemis\n",
      "Folder created: data_models/80_DebugViewPP\n",
      "Folder created: data_models/81_activejdbc\n",
      "Folder created: data_models/82_spring-net\n",
      "Folder created: data_models/83_lcm\n",
      "Folder created: data_models/84_busmaster\n",
      "Folder created: data_models/85_jenetics\n",
      "Folder created: data_models/86_dataverse\n",
      "Folder created: data_models/87_isis\n",
      "Folder created: data_models/88_elabftw\n",
      "Folder created: data_models/89_efficientR\n",
      "Folder created: data_models/90_Seccubus_v2\n",
      "Folder created: data_models/91_aces-dev\n",
      "Folder created: data_models/92_wicket\n",
      "Folder created: data_models/93_swift-clang\n",
      "Folder created: data_models/94_swift-lldb\n",
      "Folder created: data_models/95_waf\n",
      "Folder created: data_models/96_diode\n",
      "Folder created: data_models/97_platform\n",
      "Folder created: data_models/98_gamehub.io\n",
      "Folder created: data_models/99_jsoup-learning\n",
      "Folder created: data_models/100_docs\n"
     ]
    }
   ],
   "source": [
    "import os\n",
    "\n",
    "# Base directory where folders will be created\n",
    "base_directory = \"data_models\"\n",
    "\n",
    "# Loop through each name in the list\n",
    "for folder_name in new_repo_names:\n",
    "    # Create the full path for the new folder\n",
    "    folder_path = os.path.join(base_directory, folder_name)\n",
    "    \n",
    "    # Check if the folder already exists\n",
    "    if not os.path.exists(folder_path):\n",
    "        # Create the folder\n",
    "        os.makedirs(folder_path)\n",
    "        print(f\"Folder created: {folder_path}\")\n",
    "    else:\n",
    "        print(f\"Folder already exists: {folder_path}\")"
   ]
  },
  {
   "cell_type": "code",
   "execution_count": 5,
   "metadata": {
    "ExecuteTime": {
     "end_time": "2024-07-23T12:57:35.600153Z",
     "start_time": "2024-07-23T12:57:35.575607Z"
    }
   },
   "outputs": [],
   "source": []
  }
 ],
 "metadata": {
  "kernelspec": {
   "display_name": "Python 3",
   "language": "python",
   "name": "python3"
  },
  "language_info": {
   "codemirror_mode": {
    "name": "ipython",
    "version": 3
   },
   "file_extension": ".py",
   "mimetype": "text/x-python",
   "name": "python",
   "nbconvert_exporter": "python",
   "pygments_lexer": "ipython3",
   "version": "3.11.9"
  }
 },
 "nbformat": 4,
 "nbformat_minor": 2
}
