{
 "cells": [
  {
   "cell_type": "markdown",
   "metadata": {},
   "source": [
    "## Parse all images to text"
   ]
  },
  {
   "cell_type": "code",
   "execution_count": 432,
   "metadata": {
    "ExecuteTime": {
     "end_time": "2024-08-29T09:25:25.715715Z",
     "start_time": "2024-08-29T09:25:25.636843Z"
    }
   },
   "outputs": [
    {
     "name": "stdout",
     "output_type": "stream",
     "text": [
      "merged: 2\n",
      "filtered: 1\n",
      "last_rect: 1\n",
      "[[  0   0]\n",
      " [154   0]\n",
      " [154 106]\n",
      " [  0 106]]\n",
      "Cropped image saved to /Users/elifnazduman/Desktop/E.D ÖZEL/python/uml-parser/output/cropped_images/cropped_0.png\n"
     ]
    },
    {
     "data": {
      "text/plain": "<Figure size 1000x1000 with 1 Axes>",
      "image/png": "[encoded data removed]"
     },
     "metadata": {},
     "output_type": "display_data"
    }
   ],
   "source": [
    "from pythonscript.rectangle_parser import run_parser\n",
    "image_path = (\"/Users/elifnazduman/Desktop/E.D ÖZEL/python/uml-parser/data_models/94_swift-lldb/uml_class_diagram_for_lldb_val_2.png\")\n",
    "output_dir = \"/Users/elifnazduman/Desktop/E.D ÖZEL/python/uml-parser/output\"  \n",
    "\n",
    "run_parser(image_path, output_dir)\n"
   ]
  },
  {
   "cell_type": "markdown",
   "metadata": {},
   "source": [
    "## Save the text as file"
   ]
  },
  {
   "cell_type": "code",
   "execution_count": 433,
   "metadata": {
    "collapsed": false,
    "ExecuteTime": {
     "end_time": "2024-08-29T09:25:26.161779Z",
     "start_time": "2024-08-29T09:25:25.727320Z"
    }
   },
   "outputs": [
    {
     "name": "stdout",
     "output_type": "stream",
     "text": [
      "Text saved to /Users/elifnazduman/Desktop/E.D ÖZEL/python/uml-parser/output/text/cropped_0.txt\n",
      "Classes extracted: ['_iter_(self\\nnext(self)\\n_ init__(self, value)']\n",
      "Generated PlantUML syntax:\n",
      " @startuml\n",
      "class _iter_(self {\n",
      "  next(self)\n",
      "  _ init__(self, value)\n",
      "}\n",
      "@enduml\n"
     ]
    }
   ],
   "source": [
    "from pythonscript.image_to_text import run_text\n",
    "from pythonscript.image_to_text import process_directory\n",
    "from pythonscript.image_to_text import generate_plantuml\n",
    "\n",
    "# Test the functions separately\n",
    "input_base_dir = \"/Users/elifnazduman/Desktop/E.D ÖZEL/python/uml-parser/output/cropped_images\"\n",
    "output_base_dir = \"/Users/elifnazduman/Desktop/E.D ÖZEL/python/uml-parser/output/text\"\n",
    "\n",
    "# Test process_directory\n",
    "try:\n",
    "    all_classes = process_directory(input_base_dir, output_base_dir)\n",
    "    print(\"Classes extracted:\", all_classes)\n",
    "except Exception as e:\n",
    "    print(f\"Error in process_directory: {e}\")\n",
    "\n",
    "# Test generate_plantuml if all_classes is not empty\n",
    "if all_classes:\n",
    "    try:\n",
    "        plantuml_syntax = generate_plantuml(all_classes)\n",
    "        print(\"Generated PlantUML syntax:\\n\", plantuml_syntax)\n",
    "    except Exception as e:\n",
    "        print(f\"Error in generate_plantuml: {e}\")\n",
    "else:\n",
    "    print(\"No classes to generate PlantUML.\")\n",
    "\n"
   ]
  },
  {
   "cell_type": "markdown",
   "metadata": {},
   "source": [
    "## Conversion svg to png"
   ]
  },
  {
   "cell_type": "code",
   "execution_count": 434,
   "metadata": {
    "ExecuteTime": {
     "end_time": "2024-08-29T09:25:26.165255Z",
     "start_time": "2024-08-29T09:25:26.161284Z"
    }
   },
   "outputs": [
    {
     "name": "stdout",
     "output_type": "stream",
     "text": [
      "18_google-api-python-client\n",
      "61_unknown-horizons\n",
      "47_game-of-life\n",
      ".DS_Store\n",
      "94_swift-lldb\n",
      "29_netty-learning\n",
      "46_grobid\n",
      "58_pjproject\n",
      "81_activejdbc\n",
      "82_spring-net\n",
      "34_core-plot\n",
      "55_octomap\n",
      "32_RakNet\n",
      "50_yard\n",
      "74_di\n",
      "53_LibrePCB\n",
      "75_usergrid\n",
      "37_android_design_patterns_analysis\n",
      "73_sonar-java\n",
      "99_jsoup-learning\n",
      "80_DebugViewPP\n",
      "68_mayavi\n",
      "26_cgal\n",
      "51_AsciidocFX\n",
      "17_android-open-project-analysis\n"
     ]
    },
    {
     "data": {
      "text/plain": "'All SVG files have been converted to PNG.'"
     },
     "execution_count": 434,
     "metadata": {},
     "output_type": "execute_result"
    }
   ],
   "source": [
    "from pythonscript.converting_files_svg_to_png import run_conversion\n",
    "run_conversion()"
   ]
  },
  {
   "cell_type": "markdown",
   "source": [
    "## Conversion gif to png"
   ],
   "metadata": {
    "collapsed": false
   }
  },
  {
   "cell_type": "code",
   "outputs": [
    {
     "name": "stdout",
     "output_type": "stream",
     "text": [
      "Converted data_models/18_google-api-python-client/uml_class_diagram_for_googleap_21.gif to data_models/18_google-api-python-client/uml_class_diagram_for_googleap_21.png\n",
      "Converted data_models/18_google-api-python-client/uml_class_diagram_for_googleap_20.gif to data_models/18_google-api-python-client/uml_class_diagram_for_googleap_20.png\n",
      "Converted data_models/18_google-api-python-client/uml_class_diagram_for_googleap_22.gif to data_models/18_google-api-python-client/uml_class_diagram_for_googleap_22.png\n",
      "Converted data_models/18_google-api-python-client/uml_class_diagram_for_googleap_9.gif to data_models/18_google-api-python-client/uml_class_diagram_for_googleap_9.png\n",
      "Converted data_models/18_google-api-python-client/uml_class_diagram_for_googleap_37.gif to data_models/18_google-api-python-client/uml_class_diagram_for_googleap_37.png\n",
      "Converted data_models/18_google-api-python-client/uml_class_diagram_for_googleap_18.gif to data_models/18_google-api-python-client/uml_class_diagram_for_googleap_18.png\n",
      "Converted data_models/18_google-api-python-client/uml_class_diagram_for_googleap_19.gif to data_models/18_google-api-python-client/uml_class_diagram_for_googleap_19.png\n",
      "Converted data_models/18_google-api-python-client/uml_class_diagram_for_googleap_42.gif to data_models/18_google-api-python-client/uml_class_diagram_for_googleap_42.png\n",
      "Converted data_models/18_google-api-python-client/uml_class_diagram_for_googleap_41.gif to data_models/18_google-api-python-client/uml_class_diagram_for_googleap_41.png\n",
      "Converted data_models/18_google-api-python-client/uml_class_diagram_for_googleap_14.gif to data_models/18_google-api-python-client/uml_class_diagram_for_googleap_14.png\n",
      "Converted data_models/18_google-api-python-client/uml_class_diagram_for_googleap_3.gif to data_models/18_google-api-python-client/uml_class_diagram_for_googleap_3.png\n",
      "Converted data_models/18_google-api-python-client/uml_class_diagram_for_googleap_29.gif to data_models/18_google-api-python-client/uml_class_diagram_for_googleap_29.png\n",
      "Converted data_models/18_google-api-python-client/uml_class_diagram_for_googleap_15.gif to data_models/18_google-api-python-client/uml_class_diagram_for_googleap_15.png\n",
      "Converted data_models/18_google-api-python-client/uml_class_diagram_for_googleap_17.gif to data_models/18_google-api-python-client/uml_class_diagram_for_googleap_17.png\n",
      "Converted data_models/18_google-api-python-client/uml_class_diagram_for_googleap_16.gif to data_models/18_google-api-python-client/uml_class_diagram_for_googleap_16.png\n",
      "Converted data_models/18_google-api-python-client/uml_class_diagram_for_googleap_12.gif to data_models/18_google-api-python-client/uml_class_diagram_for_googleap_12.png\n",
      "Converted data_models/18_google-api-python-client/uml_class_diagram_for_googleap_13.gif to data_models/18_google-api-python-client/uml_class_diagram_for_googleap_13.png\n",
      "Converted data_models/18_google-api-python-client/uml_class_diagram_for_googleap_39.gif to data_models/18_google-api-python-client/uml_class_diagram_for_googleap_39.png\n",
      "Converted data_models/18_google-api-python-client/uml_class_diagram_for_googleap_11.gif to data_models/18_google-api-python-client/uml_class_diagram_for_googleap_11.png\n",
      "Converted data_models/18_google-api-python-client/uml_class_diagram_for_googleap_38.gif to data_models/18_google-api-python-client/uml_class_diagram_for_googleap_38.png\n",
      "All GIF files have been converted to PNG.\n"
     ]
    }
   ],
   "source": [
    "from pythonscript.converting_files_gif_to_png import run_gif_conversion\n",
    "run_gif_conversion('data_models/18_google-api-python-client')"
   ],
   "metadata": {
    "collapsed": false,
    "ExecuteTime": {
     "end_time": "2024-08-29T09:25:26.244071Z",
     "start_time": "2024-08-29T09:25:26.165349Z"
    }
   },
   "execution_count": 435
  }
 ],
 "metadata": {
  "kernelspec": {
   "display_name": "Python 3",
   "language": "python",
   "name": "python3"
  },
  "language_info": {
   "codemirror_mode": {
    "name": "ipython",
    "version": 3
   },
   "file_extension": ".py",
   "mimetype": "text/x-python",
   "name": "python",
   "nbconvert_exporter": "python",
   "pygments_lexer": "ipython3",
   "version": "3.11.9"
  }
 },
 "nbformat": 4,
 "nbformat_minor": 2
}
